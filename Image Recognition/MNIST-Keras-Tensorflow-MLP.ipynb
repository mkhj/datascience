{
 "cells": [
  {
   "cell_type": "markdown",
   "metadata": {},
   "source": [
    "# Digit Recognizer - MLP model using Keras & Tensorflow"
   ]
  },
  {
   "cell_type": "code",
   "execution_count": 6,
   "metadata": {
    "collapsed": true
   },
   "outputs": [],
   "source": [
    "import sys\n",
    "\n",
    "import matplotlib.pyplot as plt\n",
    "import numpy as np\n",
    "import pandas as pd\n",
    "\n",
    "import keras\n",
    "from keras.layers import Dense\n",
    "from keras.models import Sequential\n",
    "from keras.utils import to_categorical\n",
    "from keras.optimizers import SGD\n",
    "from keras.callbacks import EarlyStopping\n",
    "\n",
    "from keras.datasets import mnist"
   ]
  },
  {
   "cell_type": "code",
   "execution_count": 51,
   "metadata": {
    "collapsed": false
   },
   "outputs": [
    {
     "name": "stdout",
     "output_type": "stream",
     "text": [
      "Python  3.5.2\n",
      "Keras  2.0.0\n"
     ]
    }
   ],
   "source": [
    "print('Python ', sys.version[0:5])\n",
    "print('Keras ', keras.__version__)"
   ]
  },
  {
   "cell_type": "markdown",
   "metadata": {},
   "source": [
    "## Data processing"
   ]
  },
  {
   "cell_type": "code",
   "execution_count": 61,
   "metadata": {
    "collapsed": true
   },
   "outputs": [],
   "source": [
    "sample_size = 60000\n",
    "num_classes = 10\n",
    "\n",
    "# fetching MNIST dataset\n",
    "(x_train, y_train), (x_test, y_test) = mnist.load_data()\n",
    "\n",
    "# Normalizing data\n",
    "x_train = x_train / 255\n",
    "x_test = x_test / 255\n",
    "\n",
    "# Fetching the first 18 images from the dataset (to be displayed later)\n",
    "pixels_train = x_train[0:18,]\n",
    "pixels_test = x_test[0:18,]\n",
    "\n",
    "# Traing dataset\n",
    "x_train = x_train[:sample_size,].reshape(sample_size, 784)\n",
    "y_train = y_train[:sample_size,].reshape(sample_size, 1)\n",
    "\n",
    "y_train = to_categorical(y_train, 10)\n",
    "\n",
    "# Test dataset\n",
    "x_test = x_test[:sample_size,].reshape(10000, 784)"
   ]
  },
  {
   "cell_type": "markdown",
   "metadata": {},
   "source": [
    "## Build and train the model"
   ]
  },
  {
   "cell_type": "code",
   "execution_count": 63,
   "metadata": {
    "collapsed": false,
    "scrolled": false
   },
   "outputs": [
    {
     "name": "stdout",
     "output_type": "stream",
     "text": [
      "_________________________________________________________________\n",
      "Layer (type)                 Output Shape              Param #   \n",
      "=================================================================\n",
      "dense_19 (Dense)             (None, 20)                15700     \n",
      "_________________________________________________________________\n",
      "dense_20 (Dense)             (None, 20)                420       \n",
      "_________________________________________________________________\n",
      "dense_21 (Dense)             (None, 10)                210       \n",
      "=================================================================\n",
      "Total params: 16,330.0\n",
      "Trainable params: 16,330\n",
      "Non-trainable params: 0.0\n",
      "_________________________________________________________________\n",
      "None\n",
      "Train on 42000 samples, validate on 18000 samples\n",
      "Epoch 1/100\n",
      "42000/42000 [==============================] - 6s - loss: 0.4802 - acc: 0.8606 - val_loss: 0.2826 - val_acc: 0.9147\n",
      "Epoch 2/100\n",
      "42000/42000 [==============================] - 4s - loss: 0.2475 - acc: 0.9280 - val_loss: 0.2281 - val_acc: 0.9329\n",
      "Epoch 3/100\n",
      "42000/42000 [==============================] - 4s - loss: 0.2068 - acc: 0.9400 - val_loss: 0.2048 - val_acc: 0.9407\n",
      "Epoch 4/100\n",
      "42000/42000 [==============================] - 4s - loss: 0.1814 - acc: 0.9465 - val_loss: 0.1949 - val_acc: 0.9418\n",
      "Epoch 5/100\n",
      "42000/42000 [==============================] - 4s - loss: 0.1643 - acc: 0.9522 - val_loss: 0.1827 - val_acc: 0.9470\n",
      "Epoch 6/100\n",
      "42000/42000 [==============================] - 4s - loss: 0.1494 - acc: 0.9544 - val_loss: 0.1855 - val_acc: 0.9448\n",
      "Epoch 7/100\n",
      "42000/42000 [==============================] - 4s - loss: 0.1382 - acc: 0.9586 - val_loss: 0.1697 - val_acc: 0.9507\n",
      "Epoch 8/100\n",
      "42000/42000 [==============================] - 4s - loss: 0.1289 - acc: 0.9612 - val_loss: 0.1693 - val_acc: 0.9512\n",
      "Epoch 9/100\n",
      "42000/42000 [==============================] - 4s - loss: 0.1203 - acc: 0.9636 - val_loss: 0.1682 - val_acc: 0.9520\n",
      "Epoch 10/100\n",
      "42000/42000 [==============================] - 4s - loss: 0.1147 - acc: 0.9650 - val_loss: 0.1737 - val_acc: 0.9503\n",
      "Epoch 11/100\n",
      "42000/42000 [==============================] - 4s - loss: 0.1089 - acc: 0.9665 - val_loss: 0.1746 - val_acc: 0.9514\n",
      "Epoch 12/100\n",
      "42000/42000 [==============================] - 4s - loss: 0.1035 - acc: 0.9685 - val_loss: 0.1805 - val_acc: 0.9497\n"
     ]
    }
   ],
   "source": [
    "# Define early_stopping_monitor\n",
    "early_stopping_monitor = EarlyStopping(patience=2)\n",
    "\n",
    "# Create the model: model\n",
    "model = Sequential()\n",
    "\n",
    "# Add the first hidden layer\n",
    "model.add(Dense(20, activation='relu', input_shape=(784,)))\n",
    "\n",
    "# Add the second hidden layer\n",
    "model.add(Dense(20, activation='relu'))\n",
    "\n",
    "# Add the output layer\n",
    "model.add(Dense(10, activation='softmax'))\n",
    "\n",
    "print(model.summary())\n",
    "\n",
    "# Compile the model\n",
    "model.compile(optimizer='adam', loss='categorical_crossentropy', metrics=['accuracy'])\n",
    "\n",
    "# Fit the model\n",
    "model_training = model.fit(x_train, y_train, validation_split=0.3, epochs=100, callbacks=[early_stopping_monitor])\n"
   ]
  },
  {
   "cell_type": "markdown",
   "metadata": {},
   "source": [
    "## Model performance"
   ]
  },
  {
   "cell_type": "code",
   "execution_count": 56,
   "metadata": {
    "collapsed": false
   },
   "outputs": [
    {
     "data": {
      "image/png": "[encoded data removed]",
      "text/plain": [
       "<matplotlib.figure.Figure at 0x1246c9128>"
      ]
     },
     "metadata": {},
     "output_type": "display_data"
    },
    {
     "name": "stdout",
     "output_type": "stream",
     "text": [
      "Test loss: 0.134660817133\n",
      "Test accuracy: 0.959483333333\n"
     ]
    }
   ],
   "source": [
    "# Visual representation of how the model performed during traning\n",
    "plt.plot(model_training.history['val_loss'], 'r')\n",
    "plt.xlabel('Epochs')\n",
    "plt.ylabel('Validation score')\n",
    "plt.show()\n",
    "\n",
    "score = model.evaluate(x_train, y_train, verbose=0)\n",
    "print('Test loss:', score[0])\n",
    "print('Test accuracy:', score[1])"
   ]
  },
  {
   "cell_type": "markdown",
   "metadata": {},
   "source": [
    "## Prediction"
   ]
  },
  {
   "cell_type": "code",
   "execution_count": 57,
   "metadata": {
    "collapsed": false
   },
   "outputs": [
    {
     "name": "stdout",
     "output_type": "stream",
     "text": [
      "A sample of the actually images with the predicted class:\n"
     ]
    },
    {
     "data": {
      "image/png": "[encoded data removed]",
      "text/plain": [
       "<matplotlib.figure.Figure at 0x123075780>"
      ]
     },
     "metadata": {},
     "output_type": "display_data"
    }
   ],
   "source": [
    "# prediction\n",
    "pred_results = model.predict_classes(x_test, verbose=2)\n",
    "\n",
    "# Compare predicted classes with actually images\n",
    "fig, axeslist = plt.subplots(ncols=6, nrows=3)\n",
    "for ind, p in zip(range(len(pixels_test)), pixels_test):\n",
    "    axeslist.ravel()[ind].imshow(p, cmap='gray')\n",
    "    axeslist.ravel()[ind].set_title(pred_results[ind])\n",
    "    axeslist.ravel()[ind].set_axis_off()\n",
    "\n",
    "print(\"A sample of the actually images with the predicted class:\")\n",
    "    \n",
    "plt.tight_layout() # optional\n",
    "plt.show()"
   ]
  },
  {
   "cell_type": "markdown",
   "metadata": {},
   "source": [
    "## Kaggle"
   ]
  },
  {
   "cell_type": "code",
   "execution_count": null,
   "metadata": {
    "collapsed": true
   },
   "outputs": [],
   "source": [
    "testset = np.genfromtxt('test.csv', delimiter=',', skip_header=1)"
   ]
  },
  {
   "cell_type": "code",
   "execution_count": 49,
   "metadata": {
    "collapsed": false
   },
   "outputs": [
    {
     "name": "stdout",
     "output_type": "stream",
     "text": [
      "A sample of the actually images with the predicted class:\n"
     ]
    },
    {
     "data": {
      "image/png": "[encoded data removed]",
      "text/plain": [
       "<matplotlib.figure.Figure at 0x123b9f7f0>"
      ]
     },
     "metadata": {},
     "output_type": "display_data"
    }
   ],
   "source": [
    "pixels_test = testset.reshape(28000,28,28)[0:18,]\n",
    "\n",
    "# prediction\n",
    "pred_results = model.predict_classes(testset, verbose=2)\n",
    "\n",
    "# Compare predicted classes with actually images\n",
    "fig, axeslist = plt.subplots(ncols=6, nrows=3)\n",
    "for ind, p in zip(range(len(pixels_test)), pixels_test):\n",
    "    axeslist.ravel()[ind].imshow(p, cmap='gray')\n",
    "    axeslist.ravel()[ind].set_title(pred_results[ind])\n",
    "    axeslist.ravel()[ind].set_axis_off()\n",
    "\n",
    "print(\"A sample of the actually images with the predicted class:\")\n",
    "    \n",
    "plt.tight_layout() # optional\n",
    "plt.show()\n",
    "\n",
    "df = pd.DataFrame({\"ImageId\": list(range(1,len(pred_results)+1)), \"Label\": pred_results})\n",
    "df.to_csv('submission.csv', index=False, header=True)"
   ]
  },
  {
   "cell_type": "code",
   "execution_count": null,
   "metadata": {
    "collapsed": true
   },
   "outputs": [],
   "source": [
    "model.save('model_digits.h5')"
   ]
  }
 ],
 "metadata": {
  "kernelspec": {
   "display_name": "Python (tensorflow)",
   "language": "python",
   "name": "tensorflowv"
  },
  "language_info": {
   "codemirror_mode": {
    "name": "ipython",
    "version": 3
   },
   "file_extension": ".py",
   "mimetype": "text/x-python",
   "name": "python",
   "nbconvert_exporter": "python",
   "pygments_lexer": "ipython3",
   "version": "3.5.2"
  }
 },
 "nbformat": 4,
 "nbformat_minor": 2
}
